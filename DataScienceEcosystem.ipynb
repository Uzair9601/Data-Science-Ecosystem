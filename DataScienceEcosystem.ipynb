{
 "cells": [
  {
   "cell_type": "markdown",
   "id": "a9854d4b-ca62-4c27-b09a-bd3c8dbd2dc9",
   "metadata": {},
   "source": [
    "# Data Science Tools and Ecosystem"
   ]
  },
  {
   "cell_type": "markdown",
   "id": "c2bf9059-ce15-4f16-bc90-01ce48f7dc70",
   "metadata": {},
   "source": [
    " In this notebook, Data Science Tools and Ecosystem are summarized."
   ]
  },
  {
   "cell_type": "markdown",
   "id": "1d975031-33ce-4105-aab9-ffd0b18cf8fc",
   "metadata": {},
   "source": [
    "## **Objectives:**\n",
    "* Popular languages used in Data Science are Python, R-Programming, Julia, etc.\n",
    "* Popular libraries used in Data Scinece are Numpy, Matplotlib, Pandas, etc.\n",
    "* Common Data Science tools are RStudio, Jupyter Notebook, etc. "
   ]
  },
  {
   "cell_type": "markdown",
   "id": "05f4eb2f-032b-4db3-a452-fd7f2b5d45be",
   "metadata": {},
   "source": [
    "Some of the popular languages that Data Scientists use are:\n",
    "1. Python\n",
    "2. R\n",
    "3. Julia"
   ]
  },
  {
   "cell_type": "markdown",
   "id": "37632743-2b49-469b-a523-ef5b364cad88",
   "metadata": {},
   "source": [
    "Some of the commonly used libraries used by data scientists include:\n",
    "1. Pandas\n",
    "2. Matplotlib\n",
    "3. Numpy"
   ]
  },
  {
   "cell_type": "markdown",
   "id": "d189b7d9-8cc4-4149-b67d-99a571196829",
   "metadata": {},
   "source": [
    "|Data Science Tools|\n",
    "|------------------|\n",
    "|RStudio        |\n",
    "|VS Code        |\n",
    "|Jupyter Noteook|"
   ]
  },
  {
   "cell_type": "markdown",
   "id": "4fdb1a3f-6e03-4276-8151-255317da66ae",
   "metadata": {},
   "source": [
    "### Below are a few examples of evaluating arithmetic expressions in Python\n"
   ]
  },
  {
   "cell_type": "code",
   "execution_count": 14,
   "id": "705d9c37-02b0-462f-b222-b5c8d778e82b",
   "metadata": {},
   "outputs": [
    {
     "data": {
      "text/plain": [
       "17"
      ]
     },
     "execution_count": 14,
     "metadata": {},
     "output_type": "execute_result"
    }
   ],
   "source": [
    "#  This a simple arithmetic expression to mutiply then add integers\n",
    "(3*4)+5"
   ]
  },
  {
   "cell_type": "code",
   "execution_count": 20,
   "id": "4155d893-b2a0-4deb-838a-e7917872a517",
   "metadata": {},
   "outputs": [
    {
     "data": {
      "text/plain": [
       "3.3333333333333335"
      ]
     },
     "execution_count": 20,
     "metadata": {},
     "output_type": "execute_result"
    }
   ],
   "source": [
    "#  This will convert 200 minutes to hours by diving by 60\n",
    "200/60"
   ]
  },
  {
   "cell_type": "markdown",
   "id": "3ae15b48-0132-4582-bb7c-995248691123",
   "metadata": {},
   "source": [
    "## Author\n",
    "Muhammad Uzair"
   ]
  },
  {
   "cell_type": "code",
   "execution_count": null,
   "id": "bcb51f5e-6ae3-4641-808c-97eed8fbd192",
   "metadata": {},
   "outputs": [],
   "source": []
  }
 ],
 "metadata": {
  "kernelspec": {
   "display_name": "Python [conda env:base] *",
   "language": "python",
   "name": "conda-base-py"
  },
  "language_info": {
   "codemirror_mode": {
    "name": "ipython",
    "version": 3
   },
   "file_extension": ".py",
   "mimetype": "text/x-python",
   "name": "python",
   "nbconvert_exporter": "python",
   "pygments_lexer": "ipython3",
   "version": "3.12.7"
  }
 },
 "nbformat": 4,
 "nbformat_minor": 5
}
